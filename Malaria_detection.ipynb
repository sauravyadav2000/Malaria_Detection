{
 "cells": [
  {
   "cell_type": "code",
   "execution_count": 263,
   "id": "1c99d602-a8bc-425d-b548-9d0d933ee9b6",
   "metadata": {},
   "outputs": [
    {
     "name": "stdout",
     "output_type": "stream",
     "text": [
      "2.4.0-rc0\n"
     ]
    }
   ],
   "source": [
    "import tensorflow as tf\n",
    "print(tf.__version__)"
   ]
  },
  {
   "cell_type": "code",
   "execution_count": 264,
   "id": "2d0c5718-6998-47e0-915f-f8db28bb35ff",
   "metadata": {},
   "outputs": [],
   "source": [
    "# import the libraries as shown below\n",
    "\n",
    "from tensorflow.keras.layers import Input, Lambda, Dense, Flatten,Conv2D, BatchNormalization, Dropout\n",
    "from tensorflow.keras.models import Model\n",
    "from tensorflow.keras.applications.vgg19 import VGG19\n",
    "from tensorflow.keras.applications.resnet50 import preprocess_input\n",
    "from tensorflow.keras.preprocessing import image\n",
    "from tensorflow.keras.preprocessing.image import ImageDataGenerator,load_img\n",
    "# from keras.layers.normalization import BatchNormalization\n",
    "# from keras.layers import Dropout\n",
    "from tensorflow.keras.models import Sequential\n",
    "from tensorflow.keras.layers import MaxPooling2D\n",
    "\n",
    "import numpy as np\n",
    "from glob import glob\n",
    "import matplotlib.pyplot as plt"
   ]
  },
  {
   "cell_type": "code",
   "execution_count": 265,
   "id": "dbaac995-6b85-40f0-9c7b-3dccc6eb61e5",
   "metadata": {},
   "outputs": [],
   "source": [
    "# re-size all the images to this\n",
    "IMAGE_SIZE = [224, 224]\n",
    "\n",
    "train_path = 'Dataset/Train'\n",
    "valid_path = 'Dataset/Test'"
   ]
  },
  {
   "cell_type": "code",
   "execution_count": 282,
   "id": "fa0958a5-742f-4c10-9c47-56cb2f043add",
   "metadata": {},
   "outputs": [],
   "source": [
    "# Import the Vgg 19 library as shown below and add preprocessing layer to the front of VGG\n",
    "# Here we will be using imagenet weights\n",
    "\n",
    "# vgg19 = VGG19(input_shape=IMAGE_SIZE + [3], weights='imagenet', include_top=False)\n",
    "#We are using vgg19 because it gives us better accuracy compared to vgg16\n"
   ]
  },
  {
   "cell_type": "code",
   "execution_count": 267,
   "id": "2f4dd1db-c42a-4cfe-ba36-1a89a0bdb577",
   "metadata": {},
   "outputs": [],
   "source": [
    "# don't train existing weights\n",
    "# for layer in mobilnet.layers:\n",
    "#     layer.trainable = False"
   ]
  },
  {
   "cell_type": "code",
   "execution_count": 268,
   "id": "d37aab2e-ac1a-432f-b800-35f0367b7b3f",
   "metadata": {},
   "outputs": [],
   "source": [
    "# useful for getting number of output classes\n",
    "folders = glob('Dataset/Train/*')"
   ]
  },
  {
   "cell_type": "code",
   "execution_count": 269,
   "id": "70791873-0c94-4599-92c6-f6dd4e164d7e",
   "metadata": {},
   "outputs": [
    {
     "data": {
      "text/plain": [
       "['Dataset/Train/Parasite', 'Dataset/Train/Uninfected']"
      ]
     },
     "execution_count": 269,
     "metadata": {},
     "output_type": "execute_result"
    }
   ],
   "source": [
    "folders"
   ]
  },
  {
   "cell_type": "code",
   "execution_count": 270,
   "id": "7351637f-00fd-48c6-a846-82dcf7792e0f",
   "metadata": {},
   "outputs": [],
   "source": [
    "# our layers - you can add more if you want\n",
    "# x = Flatten()(mobilnet.output)"
   ]
  },
  {
   "cell_type": "code",
   "execution_count": 283,
   "id": "0963f682-6f8e-4a27-9d4b-a5f4a3800238",
   "metadata": {},
   "outputs": [],
   "source": [
    "# prediction = Dense(len(folders), activation='softmax')(x)\n",
    "\n",
    "# # create a model object\n",
    "# model = Model(inputs=vgg19.input, outputs=prediction)"
   ]
  },
  {
   "cell_type": "code",
   "execution_count": 272,
   "id": "c82ab1ab-2f0b-4200-93c0-945926f5192e",
   "metadata": {},
   "outputs": [],
   "source": [
    "# model.summary()\n"
   ]
  },
  {
   "cell_type": "code",
   "execution_count": 274,
   "id": "820a3b8e-ef02-4e7f-916d-5d45d5242809",
   "metadata": {},
   "outputs": [
    {
     "name": "stdout",
     "output_type": "stream",
     "text": [
      "Model: \"sequential_12\"\n",
      "_________________________________________________________________\n",
      "Layer (type)                 Output Shape              Param #   \n",
      "=================================================================\n",
      "conv2d_43 (Conv2D)           (None, 224, 224, 16)      448       \n",
      "_________________________________________________________________\n",
      "max_pooling2d_33 (MaxPooling (None, 112, 112, 16)      0         \n",
      "_________________________________________________________________\n",
      "conv2d_44 (Conv2D)           (None, 112, 112, 32)      4640      \n",
      "_________________________________________________________________\n",
      "max_pooling2d_34 (MaxPooling (None, 56, 56, 32)        0         \n",
      "_________________________________________________________________\n",
      "conv2d_45 (Conv2D)           (None, 56, 56, 64)        18496     \n",
      "_________________________________________________________________\n",
      "max_pooling2d_35 (MaxPooling (None, 28, 28, 64)        0         \n",
      "_________________________________________________________________\n",
      "conv2d_46 (Conv2D)           (None, 28, 28, 128)       73856     \n",
      "_________________________________________________________________\n",
      "flatten_12 (Flatten)         (None, 100352)            0         \n",
      "_________________________________________________________________\n",
      "dense_27 (Dense)             (None, 500)               50176500  \n",
      "_________________________________________________________________\n",
      "dense_28 (Dense)             (None, 2)                 1002      \n",
      "=================================================================\n",
      "Total params: 50,274,942\n",
      "Trainable params: 50,274,942\n",
      "Non-trainable params: 0\n",
      "_________________________________________________________________\n"
     ]
    }
   ],
   "source": [
    "### Create Model from scratch using CNN\n",
    "\n",
    "model=Sequential()\n",
    "#Layer 1\n",
    "model.add(Conv2D(filters=16,kernel_size=3,padding=\"same\",activation=\"relu\",input_shape=(224,224,3)))\n",
    "# model.add(BatchNormalization())\n",
    "# model.add(Dropout(0.5))\n",
    "model.add(MaxPooling2D(pool_size=2))\n",
    "\n",
    "#Layer2\n",
    "model.add(Conv2D(filters=32,kernel_size=3,padding=\"same\",activation =\"relu\"))\n",
    "# model.add(BatchNormalization())\n",
    "# model.add(Dropout(0.5))        \n",
    "model.add(MaxPooling2D(pool_size=2))\n",
    "        \n",
    "#Layer3\n",
    "model.add(Conv2D(filters=64,kernel_size=3,padding=\"same\",activation=\"relu\"))\n",
    "# model.add(BatchNormalization())\n",
    "# model.add(Dropout(0.5))\n",
    "model.add(MaxPooling2D(pool_size=2))\n",
    "          \n",
    "#Layer4\n",
    "model.add(Conv2D(filters=128,kernel_size=3,padding=\"same\",activation=\"relu\"))\n",
    "# model.add(BatchNormalization())\n",
    "# model.add(Dropout(0.5))\n",
    "model.add(Flatten())\n",
    "          \n",
    "# Dense Layer\n",
    "# model.add(Dropout(0.25))\n",
    "model.add(Dense(500,activation=\"relu\"))\n",
    "model.add(Dense(2,activation=\"softmax\"))\n",
    "model.summary()"
   ]
  },
  {
   "cell_type": "code",
   "execution_count": 275,
   "id": "e16f61e1-cd7e-4861-97bc-92ea629300cd",
   "metadata": {},
   "outputs": [],
   "source": [
    "# tell the model what cost and optimization method to use\n",
    "model.compile(\n",
    "  loss='categorical_crossentropy',\n",
    "  optimizer='adam',\n",
    "  metrics=['accuracy']\n",
    ")"
   ]
  },
  {
   "cell_type": "code",
   "execution_count": 276,
   "id": "f419a953-283c-4e3b-83ba-f4deee8c4d79",
   "metadata": {},
   "outputs": [],
   "source": [
    "# Use the Image Data Generator to import the images from the dataset\n",
    "from tensorflow.keras.preprocessing.image import ImageDataGenerator\n",
    "\n",
    "train_datagen = ImageDataGenerator(rescale = 1./255,\n",
    "                                   shear_range = 0.2,\n",
    "                                   zoom_range = 0.2,\n",
    "                                   horizontal_flip = True)\n",
    "\n",
    "test_datagen = ImageDataGenerator(rescale = 1./255)"
   ]
  },
  {
   "cell_type": "code",
   "execution_count": 277,
   "id": "eb392604-4d9d-4e2d-b498-1f517eb76c53",
   "metadata": {},
   "outputs": [
    {
     "name": "stdout",
     "output_type": "stream",
     "text": [
      "Found 416 images belonging to 2 classes.\n"
     ]
    }
   ],
   "source": [
    "# Make sure you provide the same target size as initialied for the image size\n",
    "training_set = train_datagen.flow_from_directory('Dataset/Train',\n",
    "                                                 target_size = (224, 224),\n",
    "                                                 batch_size = 32,\n",
    "                                                 class_mode = 'categorical')"
   ]
  },
  {
   "cell_type": "code",
   "execution_count": 278,
   "id": "e5f2c8b7-0eb6-4d54-8c4f-9f8146b4891b",
   "metadata": {},
   "outputs": [
    {
     "data": {
      "text/plain": [
       "<tensorflow.python.keras.preprocessing.image.DirectoryIterator at 0x4fd331400>"
      ]
     },
     "execution_count": 278,
     "metadata": {},
     "output_type": "execute_result"
    }
   ],
   "source": [
    "training_set\n"
   ]
  },
  {
   "cell_type": "code",
   "execution_count": null,
   "id": "bc4853a4-3fd4-4e24-b3c8-a6a67a20b9a8",
   "metadata": {},
   "outputs": [],
   "source": []
  },
  {
   "cell_type": "code",
   "execution_count": 279,
   "id": "26f57d66-bdc7-4e97-9f70-c17bd56e70bd",
   "metadata": {},
   "outputs": [
    {
     "name": "stdout",
     "output_type": "stream",
     "text": [
      "Found 134 images belonging to 2 classes.\n"
     ]
    }
   ],
   "source": [
    "test_set = test_datagen.flow_from_directory('Dataset/Test',\n",
    "                                            target_size = (224, 224),\n",
    "                                            batch_size = 32,\n",
    "                                            class_mode = 'categorical')"
   ]
  },
  {
   "cell_type": "code",
   "execution_count": 280,
   "id": "fd2ff991-9531-4e2f-b84f-b2b308e2d36e",
   "metadata": {},
   "outputs": [],
   "source": [
    "from tensorflow.keras.callbacks import ModelCheckpoint\n",
    "filepath = \"saved model/weight-improvement-{epoch:02d}-{val_loss:.2f}.h5\"\n",
    "checkpoint = ModelCheckpoint(filepath, monitor = \"val_acc\", verbose = 1, save_best_only= True, mode = 'max')\n",
    "callbacks_list = [checkpoint]"
   ]
  },
  {
   "cell_type": "code",
   "execution_count": 281,
   "id": "955050b4-41a6-4167-933c-32f4b7d7dc69",
   "metadata": {},
   "outputs": [
    {
     "name": "stdout",
     "output_type": "stream",
     "text": [
      "Epoch 1/30\n",
      "WARNING:tensorflow:AutoGraph could not transform <function Model.make_train_function.<locals>.train_function at 0x3461ae4c0> and will run it as-is.\n",
      "Please report this to the TensorFlow team. When filing the bug, set the verbosity to 10 (on Linux, `export AUTOGRAPH_VERBOSITY=10`) and attach the full output.\n",
      "Cause: unsupported operand type(s) for -: 'NoneType' and 'int'\n",
      "To silence this warning, decorate the function with @tf.autograph.experimental.do_not_convert\n",
      "WARNING: AutoGraph could not transform <function Model.make_train_function.<locals>.train_function at 0x3461ae4c0> and will run it as-is.\n",
      "Please report this to the TensorFlow team. When filing the bug, set the verbosity to 10 (on Linux, `export AUTOGRAPH_VERBOSITY=10`) and attach the full output.\n",
      "Cause: unsupported operand type(s) for -: 'NoneType' and 'int'\n",
      "To silence this warning, decorate the function with @tf.autograph.experimental.do_not_convert\n",
      "13/13 [==============================] - ETA: 0s - loss: 2.5926 - accuracy: 0.5167WARNING:tensorflow:AutoGraph could not transform <function Model.make_test_function.<locals>.test_function at 0x3461ae430> and will run it as-is.\n",
      "Please report this to the TensorFlow team. When filing the bug, set the verbosity to 10 (on Linux, `export AUTOGRAPH_VERBOSITY=10`) and attach the full output.\n",
      "Cause: unsupported operand type(s) for -: 'NoneType' and 'int'\n",
      "To silence this warning, decorate the function with @tf.autograph.experimental.do_not_convert\n",
      "WARNING: AutoGraph could not transform <function Model.make_test_function.<locals>.test_function at 0x3461ae430> and will run it as-is.\n",
      "Please report this to the TensorFlow team. When filing the bug, set the verbosity to 10 (on Linux, `export AUTOGRAPH_VERBOSITY=10`) and attach the full output.\n",
      "Cause: unsupported operand type(s) for -: 'NoneType' and 'int'\n",
      "To silence this warning, decorate the function with @tf.autograph.experimental.do_not_convert\n",
      "13/13 [==============================] - 8s 575ms/step - loss: 2.5201 - accuracy: 0.5181 - val_loss: 0.7342 - val_accuracy: 0.3209\n",
      "Epoch 2/30\n",
      "13/13 [==============================] - 6s 442ms/step - loss: 0.5963 - accuracy: 0.6320 - val_loss: 0.8030 - val_accuracy: 0.4701\n",
      "Epoch 3/30\n",
      "13/13 [==============================] - 8s 616ms/step - loss: 0.6811 - accuracy: 0.5579 - val_loss: 0.7107 - val_accuracy: 0.4104\n",
      "Epoch 4/30\n",
      "13/13 [==============================] - 6s 442ms/step - loss: 0.6060 - accuracy: 0.6813 - val_loss: 0.7168 - val_accuracy: 0.3731\n",
      "Epoch 5/30\n",
      "13/13 [==============================] - 5s 371ms/step - loss: 0.5972 - accuracy: 0.6738 - val_loss: 0.7539 - val_accuracy: 0.3806\n",
      "Epoch 6/30\n",
      "13/13 [==============================] - 6s 475ms/step - loss: 0.5232 - accuracy: 0.7368 - val_loss: 0.7962 - val_accuracy: 0.3507\n",
      "Epoch 7/30\n",
      "13/13 [==============================] - 7s 539ms/step - loss: 0.6613 - accuracy: 0.5900 - val_loss: 0.6900 - val_accuracy: 0.5224\n",
      "Epoch 8/30\n",
      "13/13 [==============================] - 6s 414ms/step - loss: 0.6791 - accuracy: 0.5768 - val_loss: 0.6614 - val_accuracy: 0.6269\n",
      "Epoch 9/30\n",
      "13/13 [==============================] - 6s 440ms/step - loss: 0.6756 - accuracy: 0.5757 - val_loss: 0.7625 - val_accuracy: 0.3806\n",
      "Epoch 10/30\n",
      "13/13 [==============================] - 6s 456ms/step - loss: 0.6756 - accuracy: 0.5607 - val_loss: 0.6947 - val_accuracy: 0.4701\n",
      "Epoch 11/30\n",
      "13/13 [==============================] - 7s 540ms/step - loss: 0.6476 - accuracy: 0.6562 - val_loss: 0.8818 - val_accuracy: 0.3657\n",
      "Epoch 12/30\n",
      "13/13 [==============================] - 9s 710ms/step - loss: 0.6289 - accuracy: 0.6321 - val_loss: 0.6737 - val_accuracy: 0.5896\n",
      "Epoch 13/30\n",
      "13/13 [==============================] - 8s 617ms/step - loss: 0.5525 - accuracy: 0.7317 - val_loss: 0.8779 - val_accuracy: 0.3955\n",
      "Epoch 14/30\n",
      "13/13 [==============================] - 6s 443ms/step - loss: 0.6372 - accuracy: 0.5961 - val_loss: 0.6764 - val_accuracy: 0.5373\n",
      "Epoch 15/30\n",
      "13/13 [==============================] - 7s 501ms/step - loss: 0.5000 - accuracy: 0.7456 - val_loss: 0.5809 - val_accuracy: 0.7164\n",
      "Epoch 16/30\n",
      "13/13 [==============================] - 6s 449ms/step - loss: 0.3748 - accuracy: 0.8550 - val_loss: 0.4121 - val_accuracy: 0.7761\n",
      "Epoch 17/30\n",
      "13/13 [==============================] - 5s 372ms/step - loss: 0.2448 - accuracy: 0.9115 - val_loss: 0.4905 - val_accuracy: 0.7388\n",
      "Epoch 18/30\n",
      "13/13 [==============================] - 4s 325ms/step - loss: 0.1864 - accuracy: 0.9435 - val_loss: 0.5642 - val_accuracy: 0.7910\n",
      "Epoch 19/30\n",
      "13/13 [==============================] - 5s 397ms/step - loss: 0.2878 - accuracy: 0.8701 - val_loss: 0.2827 - val_accuracy: 0.8731\n",
      "Epoch 20/30\n",
      "13/13 [==============================] - 6s 443ms/step - loss: 0.1484 - accuracy: 0.9704 - val_loss: 0.3405 - val_accuracy: 0.8881\n",
      "Epoch 21/30\n",
      "13/13 [==============================] - 6s 449ms/step - loss: 0.0980 - accuracy: 0.9676 - val_loss: 0.5166 - val_accuracy: 0.7612\n",
      "Epoch 22/30\n",
      "13/13 [==============================] - 6s 428ms/step - loss: 0.2039 - accuracy: 0.9271 - val_loss: 0.3241 - val_accuracy: 0.8731\n",
      "Epoch 23/30\n",
      "13/13 [==============================] - 7s 500ms/step - loss: 0.1135 - accuracy: 0.9551 - val_loss: 0.8221 - val_accuracy: 0.8060\n",
      "Epoch 24/30\n",
      "13/13 [==============================] - 7s 502ms/step - loss: 0.2547 - accuracy: 0.9288 - val_loss: 0.6682 - val_accuracy: 0.7015\n",
      "Epoch 25/30\n",
      "13/13 [==============================] - 7s 522ms/step - loss: 0.2669 - accuracy: 0.8988 - val_loss: 0.5055 - val_accuracy: 0.7090\n",
      "Epoch 26/30\n",
      "13/13 [==============================] - 6s 414ms/step - loss: 0.2614 - accuracy: 0.9223 - val_loss: 0.3163 - val_accuracy: 0.8806\n",
      "Epoch 27/30\n",
      "13/13 [==============================] - 5s 360ms/step - loss: 0.1043 - accuracy: 0.9666 - val_loss: 0.7500 - val_accuracy: 0.8134\n",
      "Epoch 28/30\n",
      "13/13 [==============================] - 5s 376ms/step - loss: 0.0963 - accuracy: 0.9701 - val_loss: 0.3670 - val_accuracy: 0.8731\n",
      "Epoch 29/30\n",
      "13/13 [==============================] - 7s 524ms/step - loss: 0.1088 - accuracy: 0.9634 - val_loss: 0.1644 - val_accuracy: 0.9328\n",
      "Epoch 30/30\n",
      "13/13 [==============================] - 8s 571ms/step - loss: 0.0661 - accuracy: 0.9826 - val_loss: 0.1350 - val_accuracy: 0.9328\n"
     ]
    }
   ],
   "source": [
    "# fit the model\n",
    "# Run the cell. It will take some time to execute\n",
    "r = model.fit_generator(\n",
    "  training_set,\n",
    "  validation_data=test_set,\n",
    "  epochs=30,\n",
    "  steps_per_epoch=len(training_set),\n",
    "  validation_steps=len(test_set)\n",
    ")\n",
    "\n",
    "model.save('malaria.h5')"
   ]
  },
  {
   "cell_type": "code",
   "execution_count": 284,
   "id": "a24102f6-6daf-436d-ba12-0053b2405273",
   "metadata": {},
   "outputs": [
    {
     "data": {
      "image/png": "[encoded data removed]",
      "text/plain": [
       "<Figure size 432x288 with 1 Axes>"
      ]
     },
     "metadata": {
      "needs_background": "light"
     },
     "output_type": "display_data"
    },
    {
     "data": {
      "image/png": "[encoded data removed]",
      "text/plain": [
       "<Figure size 432x288 with 1 Axes>"
      ]
     },
     "metadata": {
      "needs_background": "light"
     },
     "output_type": "display_data"
    },
    {
     "data": {
      "text/plain": [
       "<Figure size 432x288 with 0 Axes>"
      ]
     },
     "metadata": {},
     "output_type": "display_data"
    }
   ],
   "source": [
    "# plot the loss\n",
    "plt.plot(r.history['loss'], label='train loss')\n",
    "plt.plot(r.history['val_loss'], label='val loss')\n",
    "plt.legend()\n",
    "plt.show()\n",
    "plt.savefig('LossVal_loss')\n",
    "\n",
    "# plot the accuracy\n",
    "plt.plot(r.history['accuracy'], label='train acc')\n",
    "plt.plot(r.history['val_accuracy'], label='val acc')\n",
    "plt.legend()\n",
    "plt.show()\n",
    "plt.savefig('AccVal_acc')"
   ]
  },
  {
   "cell_type": "code",
   "execution_count": 285,
   "id": "8455db2d-67cb-4199-9787-48ee6a373dba",
   "metadata": {},
   "outputs": [],
   "source": [
    "# save it as a h5 file\n",
    "\n",
    "\n",
    "# from tensorflow.keras.models import load_model\n",
    "\n",
    "# model.save('model_vgg19.h5')"
   ]
  },
  {
   "cell_type": "code",
   "execution_count": 286,
   "id": "e8580ddf-850c-460a-8ce9-8b937e8569ef",
   "metadata": {},
   "outputs": [
    {
     "name": "stdout",
     "output_type": "stream",
     "text": [
      "WARNING:tensorflow:AutoGraph could not transform <function Model.make_predict_function.<locals>.predict_function at 0x2a4217160> and will run it as-is.\n",
      "Please report this to the TensorFlow team. When filing the bug, set the verbosity to 10 (on Linux, `export AUTOGRAPH_VERBOSITY=10`) and attach the full output.\n",
      "Cause: unsupported operand type(s) for -: 'NoneType' and 'int'\n",
      "To silence this warning, decorate the function with @tf.autograph.experimental.do_not_convert\n",
      "WARNING: AutoGraph could not transform <function Model.make_predict_function.<locals>.predict_function at 0x2a4217160> and will run it as-is.\n",
      "Please report this to the TensorFlow team. When filing the bug, set the verbosity to 10 (on Linux, `export AUTOGRAPH_VERBOSITY=10`) and attach the full output.\n",
      "Cause: unsupported operand type(s) for -: 'NoneType' and 'int'\n",
      "To silence this warning, decorate the function with @tf.autograph.experimental.do_not_convert\n"
     ]
    }
   ],
   "source": [
    "y_pred = model.predict(test_set)\n"
   ]
  },
  {
   "cell_type": "code",
   "execution_count": 287,
   "id": "37dd5b4d-de42-4489-ac0d-aee870442034",
   "metadata": {},
   "outputs": [
    {
     "data": {
      "text/plain": [
       "array([[1.00000000e+00, 1.44323390e-22],\n",
       "       [9.98338223e-01, 1.66177109e-03],\n",
       "       [1.00000000e+00, 1.24226392e-35],\n",
       "       [1.00000000e+00, 1.18155689e-13],\n",
       "       [1.00000000e+00, 9.78939899e-29],\n",
       "       [1.00000000e+00, 2.68708924e-19],\n",
       "       [1.00000000e+00, 7.70487556e-18],\n",
       "       [5.74481627e-03, 9.94255245e-01],\n",
       "       [1.00000000e+00, 3.28162081e-11],\n",
       "       [5.42103648e-02, 9.45789576e-01],\n",
       "       [1.00000000e+00, 6.14232184e-26],\n",
       "       [3.09332043e-01, 6.90667927e-01],\n",
       "       [1.00000000e+00, 0.00000000e+00],\n",
       "       [1.54373329e-02, 9.84562695e-01],\n",
       "       [1.00000000e+00, 1.99423706e-23],\n",
       "       [1.00000000e+00, 1.93746524e-38],\n",
       "       [1.00000000e+00, 1.03892221e-10],\n",
       "       [1.27986250e-02, 9.87201333e-01],\n",
       "       [2.55428087e-02, 9.74457204e-01],\n",
       "       [9.96060193e-01, 3.93983070e-03],\n",
       "       [1.74889620e-02, 9.82510984e-01],\n",
       "       [1.69574842e-02, 9.83042598e-01],\n",
       "       [9.98178720e-01, 1.82128721e-03],\n",
       "       [9.50390473e-02, 9.04960930e-01],\n",
       "       [1.00000000e+00, 0.00000000e+00],\n",
       "       [2.08479650e-02, 9.79152024e-01],\n",
       "       [6.25175759e-02, 9.37482476e-01],\n",
       "       [7.17385579e-03, 9.92826223e-01],\n",
       "       [1.00000000e+00, 1.87844059e-40],\n",
       "       [3.01070847e-02, 9.69892979e-01],\n",
       "       [9.99999881e-01, 8.67176198e-08],\n",
       "       [1.00000000e+00, 1.25333458e-14],\n",
       "       [1.00000000e+00, 1.60456847e-37],\n",
       "       [1.20784938e-02, 9.87921476e-01],\n",
       "       [1.00000000e+00, 2.03311584e-27],\n",
       "       [3.19897011e-02, 9.68010306e-01],\n",
       "       [1.00000000e+00, 2.96824845e-20],\n",
       "       [3.17017995e-02, 9.68298137e-01],\n",
       "       [1.00000000e+00, 9.15384851e-11],\n",
       "       [1.00000000e+00, 5.47915206e-23],\n",
       "       [1.55003652e-01, 8.44996333e-01],\n",
       "       [3.75542082e-02, 9.62445796e-01],\n",
       "       [9.45941806e-01, 5.40582202e-02],\n",
       "       [2.81102136e-02, 9.71889794e-01],\n",
       "       [1.00000000e+00, 3.61847148e-17],\n",
       "       [3.41934450e-02, 9.65806484e-01],\n",
       "       [1.00000000e+00, 1.17709071e-43],\n",
       "       [1.00000000e+00, 2.34182084e-16],\n",
       "       [1.53897004e-02, 9.84610319e-01],\n",
       "       [9.99955058e-01, 4.49018626e-05],\n",
       "       [9.99658823e-01, 3.41235194e-04],\n",
       "       [1.00000000e+00, 0.00000000e+00],\n",
       "       [2.57653575e-02, 9.74234581e-01],\n",
       "       [1.00000000e+00, 0.00000000e+00],\n",
       "       [1.00000000e+00, 5.11411714e-13],\n",
       "       [1.00000000e+00, 1.98730013e-19],\n",
       "       [1.00000000e+00, 0.00000000e+00],\n",
       "       [1.83591116e-02, 9.81640875e-01],\n",
       "       [1.00000000e+00, 4.08263505e-29],\n",
       "       [1.00000000e+00, 4.79524509e-08],\n",
       "       [1.00000000e+00, 0.00000000e+00],\n",
       "       [1.58778448e-02, 9.84122157e-01],\n",
       "       [1.00000000e+00, 1.14317575e-11],\n",
       "       [1.00000000e+00, 7.51814382e-14],\n",
       "       [1.60621926e-01, 8.39377999e-01],\n",
       "       [9.99991417e-01, 8.53538222e-06],\n",
       "       [1.00000000e+00, 4.22966017e-26],\n",
       "       [1.00000000e+00, 2.55624425e-27],\n",
       "       [1.00000000e+00, 5.28688678e-23],\n",
       "       [2.15295982e-02, 9.78470445e-01],\n",
       "       [9.99996901e-01, 3.04252467e-06],\n",
       "       [1.00000000e+00, 0.00000000e+00],\n",
       "       [1.00000000e+00, 1.12103877e-44],\n",
       "       [1.00000000e+00, 0.00000000e+00],\n",
       "       [1.00000000e+00, 7.91010635e-09],\n",
       "       [9.64218564e-03, 9.90357816e-01],\n",
       "       [3.65678295e-02, 9.63432193e-01],\n",
       "       [9.57956433e-01, 4.20435816e-02],\n",
       "       [1.00000000e+00, 1.24295174e-42],\n",
       "       [1.00000000e+00, 3.76272460e-40],\n",
       "       [1.00000000e+00, 9.38947796e-15],\n",
       "       [1.00000000e+00, 8.73679858e-33],\n",
       "       [1.00000000e+00, 2.47666902e-21],\n",
       "       [3.90548781e-02, 9.60945129e-01],\n",
       "       [9.99998569e-01, 1.40498298e-06],\n",
       "       [3.27626206e-02, 9.67237353e-01],\n",
       "       [1.00000000e+00, 1.10911360e-08],\n",
       "       [1.32476211e-01, 8.67523789e-01],\n",
       "       [1.00000000e+00, 8.15626773e-20],\n",
       "       [9.82662559e-01, 1.73374005e-02],\n",
       "       [8.72712359e-02, 9.12728786e-01],\n",
       "       [6.10699840e-02, 9.38929975e-01],\n",
       "       [3.83599967e-01, 6.16400063e-01],\n",
       "       [1.00000000e+00, 4.62960468e-21],\n",
       "       [1.00000000e+00, 3.24453971e-11],\n",
       "       [1.00000000e+00, 1.92688732e-09],\n",
       "       [1.32279992e-02, 9.86772001e-01],\n",
       "       [1.00000000e+00, 2.39514117e-14],\n",
       "       [1.88972726e-02, 9.81102765e-01],\n",
       "       [9.16580781e-02, 9.08341885e-01],\n",
       "       [4.39702757e-02, 9.56029713e-01],\n",
       "       [7.01661527e-01, 2.98338473e-01],\n",
       "       [1.00000000e+00, 0.00000000e+00],\n",
       "       [1.00000000e+00, 1.99536232e-09],\n",
       "       [2.00474653e-02, 9.79952514e-01],\n",
       "       [1.45390630e-02, 9.85460937e-01],\n",
       "       [1.00000000e+00, 2.95817964e-18],\n",
       "       [1.00000000e+00, 0.00000000e+00],\n",
       "       [5.25895841e-02, 9.47410464e-01],\n",
       "       [1.00000000e+00, 2.82549992e-29],\n",
       "       [6.49139062e-02, 9.35086131e-01],\n",
       "       [1.29000861e-02, 9.87099886e-01],\n",
       "       [1.00000000e+00, 5.98075903e-15],\n",
       "       [1.00000000e+00, 6.93241228e-28],\n",
       "       [3.00328601e-02, 9.69967186e-01],\n",
       "       [1.00000000e+00, 3.64295834e-17],\n",
       "       [1.00000000e+00, 2.09505758e-17],\n",
       "       [1.00000000e+00, 6.18972096e-10],\n",
       "       [1.00000000e+00, 3.02242728e-22],\n",
       "       [1.96336061e-02, 9.80366409e-01],\n",
       "       [1.00000000e+00, 5.67975000e-09],\n",
       "       [1.00000000e+00, 6.56201915e-22],\n",
       "       [9.37683225e-01, 6.23167083e-02],\n",
       "       [1.00000000e+00, 2.78275544e-22],\n",
       "       [1.00000000e+00, 4.89822332e-12],\n",
       "       [3.60605749e-03, 9.96393979e-01],\n",
       "       [9.97658134e-01, 2.34186533e-03],\n",
       "       [1.00000000e+00, 3.42894792e-16],\n",
       "       [8.47645104e-01, 1.52354881e-01],\n",
       "       [1.00000000e+00, 2.65623079e-33],\n",
       "       [1.00000000e+00, 1.41596641e-12],\n",
       "       [9.76139400e-03, 9.90238547e-01],\n",
       "       [2.25423034e-02, 9.77457643e-01],\n",
       "       [1.00000000e+00, 5.77041820e-34]], dtype=float32)"
      ]
     },
     "execution_count": 287,
     "metadata": {},
     "output_type": "execute_result"
    }
   ],
   "source": [
    "y_pred"
   ]
  },
  {
   "cell_type": "code",
   "execution_count": 288,
   "id": "09329c71-5c12-4673-9dac-25faf21d54e3",
   "metadata": {},
   "outputs": [],
   "source": [
    "import numpy as np\n",
    "y_pred = np.argmax(y_pred, axis=1)\n"
   ]
  },
  {
   "cell_type": "code",
   "execution_count": 289,
   "id": "75d9cecd-6adf-4ae5-aa98-09e622d9c760",
   "metadata": {},
   "outputs": [
    {
     "data": {
      "text/plain": [
       "array([0, 0, 0, 0, 0, 0, 0, 1, 0, 1, 0, 1, 0, 1, 0, 0, 0, 1, 1, 0, 1, 1,\n",
       "       0, 1, 0, 1, 1, 1, 0, 1, 0, 0, 0, 1, 0, 1, 0, 1, 0, 0, 1, 1, 0, 1,\n",
       "       0, 1, 0, 0, 1, 0, 0, 0, 1, 0, 0, 0, 0, 1, 0, 0, 0, 1, 0, 0, 1, 0,\n",
       "       0, 0, 0, 1, 0, 0, 0, 0, 0, 1, 1, 0, 0, 0, 0, 0, 0, 1, 0, 1, 0, 1,\n",
       "       0, 0, 1, 1, 1, 0, 0, 0, 1, 0, 1, 1, 1, 0, 0, 0, 1, 1, 0, 0, 1, 0,\n",
       "       1, 1, 0, 0, 1, 0, 0, 0, 0, 1, 0, 0, 0, 0, 0, 1, 0, 0, 0, 0, 0, 1,\n",
       "       1, 0])"
      ]
     },
     "execution_count": 289,
     "metadata": {},
     "output_type": "execute_result"
    }
   ],
   "source": [
    "y_pred"
   ]
  },
  {
   "cell_type": "code",
   "execution_count": null,
   "id": "2c9082f0-a70d-4db0-9c33-474cf4cef44a",
   "metadata": {},
   "outputs": [],
   "source": []
  },
  {
   "cell_type": "code",
   "execution_count": null,
   "id": "481f094f-3fab-4469-a095-684cff9a41b0",
   "metadata": {},
   "outputs": [],
   "source": []
  },
  {
   "cell_type": "code",
   "execution_count": 290,
   "id": "0c69ea04-edb3-47b6-9f7a-a034ed8ebcca",
   "metadata": {},
   "outputs": [],
   "source": [
    "from tensorflow.keras.models import load_model\n",
    "from tensorflow.keras.preprocessing import image"
   ]
  },
  {
   "cell_type": "code",
   "execution_count": 291,
   "id": "a122f70a-6602-4d5e-91d4-64d8626af1dc",
   "metadata": {},
   "outputs": [
    {
     "ename": "AttributeError",
     "evalue": "'str' object has no attribute 'decode'",
     "output_type": "error",
     "traceback": [
      "\u001b[0;31m---------------------------------------------------------------------------\u001b[0m",
      "\u001b[0;31mAttributeError\u001b[0m                            Traceback (most recent call last)",
      "Input \u001b[0;32mIn [291]\u001b[0m, in \u001b[0;36m<module>\u001b[0;34m\u001b[0m\n\u001b[0;32m----> 1\u001b[0m model\u001b[38;5;241m=\u001b[39m\u001b[43mload_model\u001b[49m\u001b[43m(\u001b[49m\u001b[38;5;124;43m'\u001b[39;49m\u001b[38;5;124;43mmalaria.h5\u001b[39;49m\u001b[38;5;124;43m'\u001b[39;49m\u001b[43m)\u001b[49m\n",
      "File \u001b[0;32m~/miniforge3/envs/tf_m1/lib/python3.8/site-packages/tensorflow/python/keras/saving/save.py:206\u001b[0m, in \u001b[0;36mload_model\u001b[0;34m(filepath, custom_objects, compile, options)\u001b[0m\n\u001b[1;32m    203\u001b[0m \u001b[38;5;28;01mwith\u001b[39;00m load_context\u001b[38;5;241m.\u001b[39mload_context(options):\n\u001b[1;32m    204\u001b[0m   \u001b[38;5;28;01mif\u001b[39;00m (h5py \u001b[38;5;129;01mis\u001b[39;00m \u001b[38;5;129;01mnot\u001b[39;00m \u001b[38;5;28;01mNone\u001b[39;00m \u001b[38;5;129;01mand\u001b[39;00m\n\u001b[1;32m    205\u001b[0m       (\u001b[38;5;28misinstance\u001b[39m(filepath, h5py\u001b[38;5;241m.\u001b[39mFile) \u001b[38;5;129;01mor\u001b[39;00m h5py\u001b[38;5;241m.\u001b[39mis_hdf5(filepath))):\n\u001b[0;32m--> 206\u001b[0m     \u001b[38;5;28;01mreturn\u001b[39;00m \u001b[43mhdf5_format\u001b[49m\u001b[38;5;241;43m.\u001b[39;49m\u001b[43mload_model_from_hdf5\u001b[49m\u001b[43m(\u001b[49m\u001b[43mfilepath\u001b[49m\u001b[43m,\u001b[49m\u001b[43m \u001b[49m\u001b[43mcustom_objects\u001b[49m\u001b[43m,\u001b[49m\n\u001b[1;32m    207\u001b[0m \u001b[43m                                            \u001b[49m\u001b[38;5;28;43mcompile\u001b[39;49m\u001b[43m)\u001b[49m\n\u001b[1;32m    209\u001b[0m   filepath \u001b[38;5;241m=\u001b[39m path_to_string(filepath)\n\u001b[1;32m    210\u001b[0m   \u001b[38;5;28;01mif\u001b[39;00m \u001b[38;5;28misinstance\u001b[39m(filepath, six\u001b[38;5;241m.\u001b[39mstring_types):\n",
      "File \u001b[0;32m~/miniforge3/envs/tf_m1/lib/python3.8/site-packages/tensorflow/python/keras/saving/hdf5_format.py:182\u001b[0m, in \u001b[0;36mload_model_from_hdf5\u001b[0;34m(filepath, custom_objects, compile)\u001b[0m\n\u001b[1;32m    180\u001b[0m \u001b[38;5;28;01mif\u001b[39;00m model_config \u001b[38;5;129;01mis\u001b[39;00m \u001b[38;5;28;01mNone\u001b[39;00m:\n\u001b[1;32m    181\u001b[0m   \u001b[38;5;28;01mraise\u001b[39;00m \u001b[38;5;167;01mValueError\u001b[39;00m(\u001b[38;5;124m'\u001b[39m\u001b[38;5;124mNo model found in config file.\u001b[39m\u001b[38;5;124m'\u001b[39m)\n\u001b[0;32m--> 182\u001b[0m model_config \u001b[38;5;241m=\u001b[39m json_utils\u001b[38;5;241m.\u001b[39mdecode(\u001b[43mmodel_config\u001b[49m\u001b[38;5;241;43m.\u001b[39;49m\u001b[43mdecode\u001b[49m(\u001b[38;5;124m'\u001b[39m\u001b[38;5;124mutf-8\u001b[39m\u001b[38;5;124m'\u001b[39m))\n\u001b[1;32m    183\u001b[0m model \u001b[38;5;241m=\u001b[39m model_config_lib\u001b[38;5;241m.\u001b[39mmodel_from_config(model_config,\n\u001b[1;32m    184\u001b[0m                                            custom_objects\u001b[38;5;241m=\u001b[39mcustom_objects)\n\u001b[1;32m    186\u001b[0m \u001b[38;5;66;03m# set weights\u001b[39;00m\n",
      "\u001b[0;31mAttributeError\u001b[0m: 'str' object has no attribute 'decode'"
     ]
    }
   ],
   "source": [
    "model=load_model('malaria.h5')"
   ]
  },
  {
   "cell_type": "code",
   "execution_count": null,
   "id": "7a3c5845-8b36-4a35-8528-3bbe580ddcd3",
   "metadata": {},
   "outputs": [],
   "source": []
  },
  {
   "cell_type": "code",
   "execution_count": 292,
   "id": "ace24e72-befc-4e6d-8008-7b88ab9c498b",
   "metadata": {},
   "outputs": [],
   "source": [
    "img=image.load_img('Dataset/Test/Uninfected/2.png',target_size=(224,224))\n"
   ]
  },
  {
   "cell_type": "code",
   "execution_count": 293,
   "id": "ae04f293-e1ca-4f82-925d-153a7245ab35",
   "metadata": {},
   "outputs": [
    {
     "data": {
      "text/plain": [
       "array([[[0., 0., 0.],\n",
       "        [0., 0., 0.],\n",
       "        [0., 0., 0.],\n",
       "        ...,\n",
       "        [0., 0., 0.],\n",
       "        [0., 0., 0.],\n",
       "        [0., 0., 0.]],\n",
       "\n",
       "       [[0., 0., 0.],\n",
       "        [0., 0., 0.],\n",
       "        [0., 0., 0.],\n",
       "        ...,\n",
       "        [0., 0., 0.],\n",
       "        [0., 0., 0.],\n",
       "        [0., 0., 0.]],\n",
       "\n",
       "       [[0., 0., 0.],\n",
       "        [0., 0., 0.],\n",
       "        [0., 0., 0.],\n",
       "        ...,\n",
       "        [0., 0., 0.],\n",
       "        [0., 0., 0.],\n",
       "        [0., 0., 0.]],\n",
       "\n",
       "       ...,\n",
       "\n",
       "       [[0., 0., 0.],\n",
       "        [0., 0., 0.],\n",
       "        [0., 0., 0.],\n",
       "        ...,\n",
       "        [0., 0., 0.],\n",
       "        [0., 0., 0.],\n",
       "        [0., 0., 0.]],\n",
       "\n",
       "       [[0., 0., 0.],\n",
       "        [0., 0., 0.],\n",
       "        [0., 0., 0.],\n",
       "        ...,\n",
       "        [0., 0., 0.],\n",
       "        [0., 0., 0.],\n",
       "        [0., 0., 0.]],\n",
       "\n",
       "       [[0., 0., 0.],\n",
       "        [0., 0., 0.],\n",
       "        [0., 0., 0.],\n",
       "        ...,\n",
       "        [0., 0., 0.],\n",
       "        [0., 0., 0.],\n",
       "        [0., 0., 0.]]], dtype=float32)"
      ]
     },
     "execution_count": 293,
     "metadata": {},
     "output_type": "execute_result"
    }
   ],
   "source": [
    "x=image.img_to_array(img)\n",
    "x\n"
   ]
  },
  {
   "cell_type": "code",
   "execution_count": 294,
   "id": "c8df84fd-0562-4d25-84a9-4e8b6d9f4fc2",
   "metadata": {},
   "outputs": [
    {
     "data": {
      "text/plain": [
       "(224, 224, 3)"
      ]
     },
     "execution_count": 294,
     "metadata": {},
     "output_type": "execute_result"
    }
   ],
   "source": [
    "x.shape"
   ]
  },
  {
   "cell_type": "code",
   "execution_count": 295,
   "id": "8a5da333-73e5-476a-a664-53aeacd4b743",
   "metadata": {},
   "outputs": [],
   "source": [
    "x=x/255"
   ]
  },
  {
   "cell_type": "code",
   "execution_count": 296,
   "id": "2cf6f686-dff3-4562-abd5-5fe4e6d0b5da",
   "metadata": {},
   "outputs": [
    {
     "data": {
      "text/plain": [
       "(1, 224, 224, 3)"
      ]
     },
     "execution_count": 296,
     "metadata": {},
     "output_type": "execute_result"
    }
   ],
   "source": [
    "x=np.expand_dims(x,axis=0)\n",
    "img_data=preprocess_input(x)\n",
    "img_data.shape"
   ]
  },
  {
   "cell_type": "code",
   "execution_count": 297,
   "id": "e4231438-6883-40d6-952e-8b576c486a34",
   "metadata": {},
   "outputs": [
    {
     "data": {
      "text/plain": [
       "array([[0., 1.]], dtype=float32)"
      ]
     },
     "execution_count": 297,
     "metadata": {},
     "output_type": "execute_result"
    }
   ],
   "source": [
    "model.predict(img_data)\n"
   ]
  },
  {
   "cell_type": "code",
   "execution_count": 298,
   "id": "41a6209d-d197-4469-8ad7-137088e11afd",
   "metadata": {},
   "outputs": [],
   "source": [
    "a=np.argmax(model.predict(img_data), axis=1)"
   ]
  },
  {
   "cell_type": "code",
   "execution_count": 299,
   "id": "eefcb5d1-3697-4c63-ac38-34bef51cb387",
   "metadata": {},
   "outputs": [
    {
     "name": "stdout",
     "output_type": "stream",
     "text": [
      "Uninfected\n"
     ]
    }
   ],
   "source": [
    "if(a==1):\n",
    "    print(\"Uninfected\")\n",
    "else:\n",
    "    print(\"Infected\")"
   ]
  },
  {
   "cell_type": "code",
   "execution_count": null,
   "id": "3453b8c7-3535-4ad7-a859-695404c75ebb",
   "metadata": {},
   "outputs": [],
   "source": []
  },
  {
   "cell_type": "code",
   "execution_count": null,
   "id": "38fd2942-5113-4dc9-b085-b40afa65fc88",
   "metadata": {},
   "outputs": [],
   "source": []
  }
 ],
 "metadata": {
  "kernelspec": {
   "display_name": "Python 3 (ipykernel)",
   "language": "python",
   "name": "python3"
  },
  "language_info": {
   "codemirror_mode": {
    "name": "ipython",
    "version": 3
   },
   "file_extension": ".py",
   "mimetype": "text/x-python",
   "name": "python",
   "nbconvert_exporter": "python",
   "pygments_lexer": "ipython3",
   "version": "3.8.12"
  }
 },
 "nbformat": 4,
 "nbformat_minor": 5
}
